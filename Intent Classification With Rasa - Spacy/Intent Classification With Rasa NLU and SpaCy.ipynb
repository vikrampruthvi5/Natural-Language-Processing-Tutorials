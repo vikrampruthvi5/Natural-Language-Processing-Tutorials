{
 "cells": [
  {
   "cell_type": "markdown",
   "metadata": {},
   "source": [
    "### Intent Classification with Rasa NLU and SpaCy \n",
    "+ + A Libary for intent recognition and entity extraction based on SpaCy and Sklearn\n",
    "\n",
    "##### NLP = NLU+NLG+ More\n",
    "+ NLP = understand,process,interprete everyday human language\n",
    "+ NLU = unstructured inputs and convert them into a structured form that a machine can understand and act upon\n",
    "\n",
    "#### Uses\n",
    "+ Chatbot task\n",
    "+ NL understanding\n",
    "+ Intent classification\n",
    "\n"
   ]
  },
  {
   "cell_type": "markdown",
   "metadata": {},
   "source": [
    "![alt text](nlu_nlp_explain.png \"Title\")"
   ]
  },
  {
   "cell_type": "markdown",
   "metadata": {},
   "source": [
    "#### Installation\n",
    "+ pip install rasa_nlu\n",
    "+ python -m rasa_nlu.server &\n",
    "+ sklearn_crfsuite\n",
    "\n",
    "#### using spacy as backend\n",
    "+ pip install rasa_nlu[spacy]\n",
    "+ python -m spacy download en_core_web_md\n",
    "+ python -m spacy link en_core_web_md en\n",
    "  \n",
    "  = = Dataset = =\n",
    "+ demo-rasa.json\n",
    "+ config_spacy.yaml"
   ]
  },
  {
   "cell_type": "code",
   "execution_count": null,
   "metadata": {},
   "outputs": [],
   "source": [
    "!pip install rasa_nlu[spacy]\n",
    "!python -m spacy download en_core_web_md\n",
    "!python -m spacy link en_core_web_md en"
   ]
  },
  {
   "cell_type": "code",
   "execution_count": 34,
   "metadata": {},
   "outputs": [],
   "source": [
    "# Load the Packages\n",
    "from rasa_nlu.training_data  import load_data\n",
    "from rasa_nlu.config import RasaNLUModelConfig\n",
    "from rasa_nlu.model import Trainer\n",
    "from rasa_nlu import config"
   ]
  },
  {
   "cell_type": "code",
   "execution_count": null,
   "metadata": {},
   "outputs": [],
   "source": [
    "# Load Data \n",
    "!cat rasa_dataset.json"
   ]
  },
  {
   "cell_type": "code",
   "execution_count": 102,
   "metadata": {},
   "outputs": [],
   "source": [
    "# Loading DataSet\n",
    "train_data = load_data('rasa_dataset.json')"
   ]
  },
  {
   "cell_type": "code",
   "execution_count": 103,
   "metadata": {},
   "outputs": [],
   "source": [
    "# Config Backend using Sklearn and Spacy\n",
    "trainer = Trainer(config.load(\"config_spacy.yaml\"))"
   ]
  },
  {
   "cell_type": "markdown",
   "metadata": {},
   "source": [
    "#### Content on Config\n",
    "    language: \"en\"\n",
    "    pipeline: \"spacy_sklearn\"\n",
    "\n",
    "    =======================\n",
    "\n",
    "    language: \"en\"\n",
    "\n",
    "    pipeline:\n",
    "    - name: \"nlp_spacy\"\n",
    "    - name: \"tokenizer_spacy\"\n",
    "    - name: \"intent_entity_featurizer_regex\"\n",
    "    - name: \"intent_featurizer_spacy\"\n",
    "    - name: \"ner_crf\"\n",
    "    - name: \"ner_synonyms\"\n",
    "    - name: \"intent_classifier_sklearn\""
   ]
  },
  {
   "cell_type": "code",
   "execution_count": 104,
   "metadata": {},
   "outputs": [
    {
     "name": "stdout",
     "output_type": "stream",
     "text": [
      "Fitting 2 folds for each of 6 candidates, totalling 12 fits\n"
     ]
    },
    {
     "name": "stderr",
     "output_type": "stream",
     "text": [
      "[Parallel(n_jobs=1)]: Using backend SequentialBackend with 1 concurrent workers.\n",
      "[Parallel(n_jobs=1)]: Done  12 out of  12 | elapsed:    0.0s finished\n"
     ]
    },
    {
     "data": {
      "text/plain": [
       "<rasa_nlu.model.Interpreter at 0x1bb8a2c588>"
      ]
     },
     "execution_count": 104,
     "metadata": {},
     "output_type": "execute_result"
    }
   ],
   "source": [
    "# Training Data\n",
    "trainer.train(train_data)"
   ]
  },
  {
   "cell_type": "code",
   "execution_count": 105,
   "metadata": {},
   "outputs": [],
   "source": [
    "# Returns the directory the model is stored in (Creat a folder to store model in)\n",
    "model_directory = trainer.persist('projects/')"
   ]
  },
  {
   "cell_type": "markdown",
   "metadata": {},
   "source": [
    "#### Entity Extraction With SpaCy"
   ]
  },
  {
   "cell_type": "code",
   "execution_count": 106,
   "metadata": {},
   "outputs": [],
   "source": [
    "import spacy\n",
    "nlp = spacy.load('en')"
   ]
  },
  {
   "cell_type": "code",
   "execution_count": 107,
   "metadata": {},
   "outputs": [
    {
     "data": {
      "text/plain": [
       "tuple"
      ]
     },
     "execution_count": 107,
     "metadata": {},
     "output_type": "execute_result"
    }
   ],
   "source": [
    "docx = nlp(u\"Who is the professor of Data Mining\")\n",
    "type(docx.ents)"
   ]
  },
  {
   "cell_type": "code",
   "execution_count": 108,
   "metadata": {},
   "outputs": [
    {
     "name": "stdout",
     "output_type": "stream",
     "text": [
      "value: Data Mining entity: ORG start: 24 end: 35 Root: Mining\n"
     ]
    }
   ],
   "source": [
    "for word in docx.ents:\n",
    "    print(\"value:\",word.text,\"entity:\",word.label_,\"start:\",word.start_char,\"end:\",word.end_char, \"Root:\", word.root)"
   ]
  },
  {
   "cell_type": "markdown",
   "metadata": {},
   "source": [
    "#### Making Predictions With Model\n",
    "Interpreter.load().parse()"
   ]
  },
  {
   "cell_type": "code",
   "execution_count": 109,
   "metadata": {},
   "outputs": [],
   "source": [
    "from rasa_nlu.model import Metadata, Interpreter"
   ]
  },
  {
   "cell_type": "code",
   "execution_count": 110,
   "metadata": {},
   "outputs": [],
   "source": [
    "# where `model_directory points to the folder the model is persisted in\n",
    "interpreter = Interpreter.load(model_directory)"
   ]
  },
  {
   "cell_type": "code",
   "execution_count": 111,
   "metadata": {},
   "outputs": [
    {
     "data": {
      "text/plain": [
       "{'intent': {'name': 'restaurant_search', 'confidence': 0.8447832201960601},\n",
       " 'entities': [],\n",
       " 'intent_ranking': [{'name': 'restaurant_search',\n",
       "   'confidence': 0.8447832201960601},\n",
       "  {'name': 'professor_info', 'confidence': 0.1552167798039399}],\n",
       " 'text': 'I am looking for an Italian Restaurant where I can eat'}"
      ]
     },
     "execution_count": 111,
     "metadata": {},
     "output_type": "execute_result"
    }
   ],
   "source": [
    "# Prediction of Intent\n",
    "interpreter.parse(u\"I am looking for an Italian Restaurant where I can eat\")"
   ]
  },
  {
   "cell_type": "code",
   "execution_count": 112,
   "metadata": {},
   "outputs": [
    {
     "data": {
      "text/plain": [
       "{'intent': {'name': 'restaurant_search', 'confidence': 0.8399897086618074},\n",
       " 'entities': [{'start': 10,\n",
       "   'end': 17,\n",
       "   'value': 'african',\n",
       "   'entity': 'cuisine',\n",
       "   'confidence': 0.5163415997598579,\n",
       "   'extractor': 'CRFEntityExtractor'}],\n",
       " 'intent_ranking': [{'name': 'restaurant_search',\n",
       "   'confidence': 0.8399897086618074},\n",
       "  {'name': 'professor_info', 'confidence': 0.1600102913381926}],\n",
       " 'text': 'I want an African Spot to eat'}"
      ]
     },
     "execution_count": 112,
     "metadata": {},
     "output_type": "execute_result"
    }
   ],
   "source": [
    "interpreter.parse(u\"I want an African Spot to eat\")"
   ]
  },
  {
   "cell_type": "code",
   "execution_count": 113,
   "metadata": {},
   "outputs": [
    {
     "data": {
      "text/plain": [
       "{'intent': {'name': 'restaurant_search', 'confidence': 0.6230904184132042},\n",
       " 'entities': [],\n",
       " 'intent_ranking': [{'name': 'restaurant_search',\n",
       "   'confidence': 0.6230904184132042},\n",
       "  {'name': 'professor_info', 'confidence': 0.37690958158679577}],\n",
       " 'text': 'who teaches professor of Data Mining'}"
      ]
     },
     "execution_count": 113,
     "metadata": {},
     "output_type": "execute_result"
    }
   ],
   "source": [
    "interpreter.parse(u\"who teaches professor of Data Mining\")"
   ]
  },
  {
   "cell_type": "code",
   "execution_count": 114,
   "metadata": {},
   "outputs": [
    {
     "data": {
      "text/plain": [
       "{'intent': {'name': 'restaurant_search', 'confidence': 0.6471790147427505},\n",
       " 'entities': [],\n",
       " 'intent_ranking': [{'name': 'restaurant_search',\n",
       "   'confidence': 0.6471790147427505},\n",
       "  {'name': 'professor_info', 'confidence': 0.3528209852572495}],\n",
       " 'text': 'who teaches of Data Mining'}"
      ]
     },
     "execution_count": 114,
     "metadata": {},
     "output_type": "execute_result"
    }
   ],
   "source": [
    "interpreter.parse(u\"who teaches of Data Mining\")"
   ]
  },
  {
   "cell_type": "code",
   "execution_count": 115,
   "metadata": {},
   "outputs": [
    {
     "data": {
      "text/plain": [
       "{'intent': {'name': 'restaurant_search', 'confidence': 0.6563946042813418},\n",
       " 'entities': [],\n",
       " 'intent_ranking': [{'name': 'restaurant_search',\n",
       "   'confidence': 0.6563946042813418},\n",
       "  {'name': 'professor_info', 'confidence': 0.34360539571865806}],\n",
       " 'text': 'Who is the professor of Data Mining'}"
      ]
     },
     "execution_count": 115,
     "metadata": {},
     "output_type": "execute_result"
    }
   ],
   "source": [
    "interpreter.parse(u\"Who is the professor of Data Mining\")"
   ]
  },
  {
   "cell_type": "code",
   "execution_count": null,
   "metadata": {},
   "outputs": [],
   "source": [
    "### Credits Rasa_nlu\n",
    "#### By Jesse JCharis\n",
    "#### Jesus Saves @ JCharisTec"
   ]
  }
 ],
 "metadata": {
  "kernelspec": {
   "display_name": "Python 3",
   "language": "python",
   "name": "python3"
  },
  "language_info": {
   "codemirror_mode": {
    "name": "ipython",
    "version": 3
   },
   "file_extension": ".py",
   "mimetype": "text/x-python",
   "name": "python",
   "nbconvert_exporter": "python",
   "pygments_lexer": "ipython3",
   "version": "3.6.6"
  }
 },
 "nbformat": 4,
 "nbformat_minor": 2
}
